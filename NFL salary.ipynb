{
 "cells": [
  {
   "cell_type": "code",
   "execution_count": 3,
   "metadata": {},
   "outputs": [],
   "source": [
    "import pandas as pd"
   ]
  },
  {
   "cell_type": "code",
   "execution_count": 12,
   "metadata": {},
   "outputs": [],
   "source": [
    "nfl=pd.read_excel('~/desktop/datasource/nfl_salary.xlsx',sheet_name=0,header=0)"
   ]
  },
  {
   "cell_type": "code",
   "execution_count": 13,
   "metadata": {},
   "outputs": [
    {
     "name": "stdout",
     "output_type": "stream",
     "text": [
      "<class 'pandas.core.frame.DataFrame'>\n",
      "RangeIndex: 800 entries, 0 to 799\n",
      "Data columns (total 11 columns):\n",
      "year                 800 non-null int64\n",
      "Cornerback           800 non-null int64\n",
      "Defensive Lineman    800 non-null int64\n",
      "Linebacker           800 non-null int64\n",
      "Offensive Lineman    800 non-null int64\n",
      "Quarterback          745 non-null float64\n",
      "Running Back         800 non-null int64\n",
      "Safety               800 non-null int64\n",
      "Special Teamer       799 non-null float64\n",
      "Tight End            800 non-null int64\n",
      "Wide Receiver        800 non-null int64\n",
      "dtypes: float64(2), int64(9)\n",
      "memory usage: 68.8 KB\n"
     ]
    },
    {
     "data": {
      "text/html": [
       "<div>\n",
       "<style scoped>\n",
       "    .dataframe tbody tr th:only-of-type {\n",
       "        vertical-align: middle;\n",
       "    }\n",
       "\n",
       "    .dataframe tbody tr th {\n",
       "        vertical-align: top;\n",
       "    }\n",
       "\n",
       "    .dataframe thead th {\n",
       "        text-align: right;\n",
       "    }\n",
       "</style>\n",
       "<table border=\"1\" class=\"dataframe\">\n",
       "  <thead>\n",
       "    <tr style=\"text-align: right;\">\n",
       "      <th></th>\n",
       "      <th>year</th>\n",
       "      <th>Cornerback</th>\n",
       "      <th>Defensive Lineman</th>\n",
       "      <th>Linebacker</th>\n",
       "      <th>Offensive Lineman</th>\n",
       "      <th>Quarterback</th>\n",
       "      <th>Running Back</th>\n",
       "      <th>Safety</th>\n",
       "      <th>Special Teamer</th>\n",
       "      <th>Tight End</th>\n",
       "      <th>Wide Receiver</th>\n",
       "    </tr>\n",
       "  </thead>\n",
       "  <tbody>\n",
       "    <tr>\n",
       "      <th>count</th>\n",
       "      <td>800.000000</td>\n",
       "      <td>8.000000e+02</td>\n",
       "      <td>8.000000e+02</td>\n",
       "      <td>8.000000e+02</td>\n",
       "      <td>8.000000e+02</td>\n",
       "      <td>7.450000e+02</td>\n",
       "      <td>8.000000e+02</td>\n",
       "      <td>8.000000e+02</td>\n",
       "      <td>7.990000e+02</td>\n",
       "      <td>8.000000e+02</td>\n",
       "      <td>8.000000e+02</td>\n",
       "    </tr>\n",
       "    <tr>\n",
       "      <th>mean</th>\n",
       "      <td>2014.500000</td>\n",
       "      <td>3.607021e+06</td>\n",
       "      <td>5.277673e+06</td>\n",
       "      <td>4.488940e+06</td>\n",
       "      <td>5.348530e+06</td>\n",
       "      <td>4.522281e+06</td>\n",
       "      <td>1.937492e+06</td>\n",
       "      <td>2.542320e+06</td>\n",
       "      <td>1.354084e+06</td>\n",
       "      <td>1.964608e+06</td>\n",
       "      <td>3.904309e+06</td>\n",
       "    </tr>\n",
       "    <tr>\n",
       "      <th>std</th>\n",
       "      <td>2.292721</td>\n",
       "      <td>3.407402e+06</td>\n",
       "      <td>3.708293e+06</td>\n",
       "      <td>3.241979e+06</td>\n",
       "      <td>2.862976e+06</td>\n",
       "      <td>6.366845e+06</td>\n",
       "      <td>2.349192e+06</td>\n",
       "      <td>2.367424e+06</td>\n",
       "      <td>1.087928e+06</td>\n",
       "      <td>2.185900e+06</td>\n",
       "      <td>3.597080e+06</td>\n",
       "    </tr>\n",
       "    <tr>\n",
       "      <th>min</th>\n",
       "      <td>2011.000000</td>\n",
       "      <td>6.000000e+05</td>\n",
       "      <td>1.400000e+06</td>\n",
       "      <td>1.243687e+06</td>\n",
       "      <td>1.873750e+06</td>\n",
       "      <td>2.470500e+04</td>\n",
       "      <td>4.551250e+05</td>\n",
       "      <td>5.550000e+05</td>\n",
       "      <td>1.288240e+05</td>\n",
       "      <td>3.718240e+05</td>\n",
       "      <td>6.558120e+05</td>\n",
       "    </tr>\n",
       "    <tr>\n",
       "      <th>25%</th>\n",
       "      <td>2012.750000</td>\n",
       "      <td>1.110750e+06</td>\n",
       "      <td>2.574526e+06</td>\n",
       "      <td>2.101882e+06</td>\n",
       "      <td>3.022500e+06</td>\n",
       "      <td>5.550000e+05</td>\n",
       "      <td>6.046090e+05</td>\n",
       "      <td>8.507500e+05</td>\n",
       "      <td>5.550000e+05</td>\n",
       "      <td>5.848905e+05</td>\n",
       "      <td>1.414024e+06</td>\n",
       "    </tr>\n",
       "    <tr>\n",
       "      <th>50%</th>\n",
       "      <td>2014.500000</td>\n",
       "      <td>2.235577e+06</td>\n",
       "      <td>4.145908e+06</td>\n",
       "      <td>3.431139e+06</td>\n",
       "      <td>4.550000e+06</td>\n",
       "      <td>1.300000e+06</td>\n",
       "      <td>8.345695e+05</td>\n",
       "      <td>1.597382e+06</td>\n",
       "      <td>9.000000e+05</td>\n",
       "      <td>8.379130e+05</td>\n",
       "      <td>2.600000e+06</td>\n",
       "    </tr>\n",
       "    <tr>\n",
       "      <th>75%</th>\n",
       "      <td>2016.250000</td>\n",
       "      <td>5.000000e+06</td>\n",
       "      <td>6.729250e+06</td>\n",
       "      <td>6.000000e+06</td>\n",
       "      <td>6.865977e+06</td>\n",
       "      <td>5.500000e+06</td>\n",
       "      <td>2.250000e+06</td>\n",
       "      <td>3.308333e+06</td>\n",
       "      <td>1.850000e+06</td>\n",
       "      <td>2.445312e+06</td>\n",
       "      <td>4.861595e+06</td>\n",
       "    </tr>\n",
       "    <tr>\n",
       "      <th>max</th>\n",
       "      <td>2018.000000</td>\n",
       "      <td>2.000000e+07</td>\n",
       "      <td>2.610000e+07</td>\n",
       "      <td>2.210000e+07</td>\n",
       "      <td>1.754500e+07</td>\n",
       "      <td>3.700000e+07</td>\n",
       "      <td>1.540000e+07</td>\n",
       "      <td>1.300000e+07</td>\n",
       "      <td>5.250000e+06</td>\n",
       "      <td>1.226200e+07</td>\n",
       "      <td>2.055800e+07</td>\n",
       "    </tr>\n",
       "  </tbody>\n",
       "</table>\n",
       "</div>"
      ],
      "text/plain": [
       "              year    Cornerback  Defensive Lineman    Linebacker  \\\n",
       "count   800.000000  8.000000e+02       8.000000e+02  8.000000e+02   \n",
       "mean   2014.500000  3.607021e+06       5.277673e+06  4.488940e+06   \n",
       "std       2.292721  3.407402e+06       3.708293e+06  3.241979e+06   \n",
       "min    2011.000000  6.000000e+05       1.400000e+06  1.243687e+06   \n",
       "25%    2012.750000  1.110750e+06       2.574526e+06  2.101882e+06   \n",
       "50%    2014.500000  2.235577e+06       4.145908e+06  3.431139e+06   \n",
       "75%    2016.250000  5.000000e+06       6.729250e+06  6.000000e+06   \n",
       "max    2018.000000  2.000000e+07       2.610000e+07  2.210000e+07   \n",
       "\n",
       "       Offensive Lineman   Quarterback  Running Back        Safety  \\\n",
       "count       8.000000e+02  7.450000e+02  8.000000e+02  8.000000e+02   \n",
       "mean        5.348530e+06  4.522281e+06  1.937492e+06  2.542320e+06   \n",
       "std         2.862976e+06  6.366845e+06  2.349192e+06  2.367424e+06   \n",
       "min         1.873750e+06  2.470500e+04  4.551250e+05  5.550000e+05   \n",
       "25%         3.022500e+06  5.550000e+05  6.046090e+05  8.507500e+05   \n",
       "50%         4.550000e+06  1.300000e+06  8.345695e+05  1.597382e+06   \n",
       "75%         6.865977e+06  5.500000e+06  2.250000e+06  3.308333e+06   \n",
       "max         1.754500e+07  3.700000e+07  1.540000e+07  1.300000e+07   \n",
       "\n",
       "       Special Teamer     Tight End  Wide Receiver  \n",
       "count    7.990000e+02  8.000000e+02   8.000000e+02  \n",
       "mean     1.354084e+06  1.964608e+06   3.904309e+06  \n",
       "std      1.087928e+06  2.185900e+06   3.597080e+06  \n",
       "min      1.288240e+05  3.718240e+05   6.558120e+05  \n",
       "25%      5.550000e+05  5.848905e+05   1.414024e+06  \n",
       "50%      9.000000e+05  8.379130e+05   2.600000e+06  \n",
       "75%      1.850000e+06  2.445312e+06   4.861595e+06  \n",
       "max      5.250000e+06  1.226200e+07   2.055800e+07  "
      ]
     },
     "execution_count": 13,
     "metadata": {},
     "output_type": "execute_result"
    }
   ],
   "source": [
    "nfl.info()\n",
    "nfl.describe()"
   ]
  },
  {
   "cell_type": "code",
   "execution_count": 17,
   "metadata": {},
   "outputs": [
    {
     "data": {
      "text/html": [
       "<div>\n",
       "<style scoped>\n",
       "    .dataframe tbody tr th:only-of-type {\n",
       "        vertical-align: middle;\n",
       "    }\n",
       "\n",
       "    .dataframe tbody tr th {\n",
       "        vertical-align: top;\n",
       "    }\n",
       "\n",
       "    .dataframe thead th {\n",
       "        text-align: right;\n",
       "    }\n",
       "</style>\n",
       "<table border=\"1\" class=\"dataframe\">\n",
       "  <thead>\n",
       "    <tr style=\"text-align: right;\">\n",
       "      <th></th>\n",
       "      <th>year</th>\n",
       "      <th>Cornerback</th>\n",
       "      <th>Defensive Lineman</th>\n",
       "      <th>Linebacker</th>\n",
       "      <th>Offensive Lineman</th>\n",
       "      <th>Quarterback</th>\n",
       "      <th>Running Back</th>\n",
       "      <th>Safety</th>\n",
       "      <th>Special Teamer</th>\n",
       "      <th>Tight End</th>\n",
       "      <th>Wide Receiver</th>\n",
       "    </tr>\n",
       "  </thead>\n",
       "  <tbody>\n",
       "    <tr>\n",
       "      <th>0</th>\n",
       "      <td>2011</td>\n",
       "      <td>11265916</td>\n",
       "      <td>17818000</td>\n",
       "      <td>16420000</td>\n",
       "      <td>15960000</td>\n",
       "      <td>17228125.0</td>\n",
       "      <td>12955000</td>\n",
       "      <td>8871428</td>\n",
       "      <td>4300000.0</td>\n",
       "      <td>8734375</td>\n",
       "      <td>16250000</td>\n",
       "    </tr>\n",
       "    <tr>\n",
       "      <th>1</th>\n",
       "      <td>2011</td>\n",
       "      <td>11000000</td>\n",
       "      <td>16200000</td>\n",
       "      <td>15623000</td>\n",
       "      <td>12800000</td>\n",
       "      <td>16000000.0</td>\n",
       "      <td>10873833</td>\n",
       "      <td>8787500</td>\n",
       "      <td>3725000.0</td>\n",
       "      <td>8591000</td>\n",
       "      <td>14175000</td>\n",
       "    </tr>\n",
       "    <tr>\n",
       "      <th>2</th>\n",
       "      <td>2011</td>\n",
       "      <td>10000000</td>\n",
       "      <td>12476000</td>\n",
       "      <td>11825000</td>\n",
       "      <td>11767500</td>\n",
       "      <td>14400000.0</td>\n",
       "      <td>9479000</td>\n",
       "      <td>8282500</td>\n",
       "      <td>3556176.0</td>\n",
       "      <td>8290000</td>\n",
       "      <td>11424000</td>\n",
       "    </tr>\n",
       "    <tr>\n",
       "      <th>3</th>\n",
       "      <td>2011</td>\n",
       "      <td>10000000</td>\n",
       "      <td>11904706</td>\n",
       "      <td>10083333</td>\n",
       "      <td>10358200</td>\n",
       "      <td>14100000.0</td>\n",
       "      <td>7700000</td>\n",
       "      <td>8000000</td>\n",
       "      <td>3500000.0</td>\n",
       "      <td>7723333</td>\n",
       "      <td>11415000</td>\n",
       "    </tr>\n",
       "    <tr>\n",
       "      <th>4</th>\n",
       "      <td>2011</td>\n",
       "      <td>10000000</td>\n",
       "      <td>11762782</td>\n",
       "      <td>10020000</td>\n",
       "      <td>10000000</td>\n",
       "      <td>13510000.0</td>\n",
       "      <td>7500000</td>\n",
       "      <td>7804333</td>\n",
       "      <td>3250000.0</td>\n",
       "      <td>6974666</td>\n",
       "      <td>10800000</td>\n",
       "    </tr>\n",
       "    <tr>\n",
       "      <th>5</th>\n",
       "      <td>2011</td>\n",
       "      <td>9244117</td>\n",
       "      <td>11340000</td>\n",
       "      <td>8150000</td>\n",
       "      <td>9859166</td>\n",
       "      <td>13250000.0</td>\n",
       "      <td>7033000</td>\n",
       "      <td>7652700</td>\n",
       "      <td>3225000.0</td>\n",
       "      <td>6133333</td>\n",
       "      <td>9993750</td>\n",
       "    </tr>\n",
       "  </tbody>\n",
       "</table>\n",
       "</div>"
      ],
      "text/plain": [
       "   year  Cornerback  Defensive Lineman  Linebacker  Offensive Lineman  \\\n",
       "0  2011    11265916           17818000    16420000           15960000   \n",
       "1  2011    11000000           16200000    15623000           12800000   \n",
       "2  2011    10000000           12476000    11825000           11767500   \n",
       "3  2011    10000000           11904706    10083333           10358200   \n",
       "4  2011    10000000           11762782    10020000           10000000   \n",
       "5  2011     9244117           11340000     8150000            9859166   \n",
       "\n",
       "   Quarterback  Running Back   Safety  Special Teamer  Tight End  \\\n",
       "0   17228125.0      12955000  8871428       4300000.0    8734375   \n",
       "1   16000000.0      10873833  8787500       3725000.0    8591000   \n",
       "2   14400000.0       9479000  8282500       3556176.0    8290000   \n",
       "3   14100000.0       7700000  8000000       3500000.0    7723333   \n",
       "4   13510000.0       7500000  7804333       3250000.0    6974666   \n",
       "5   13250000.0       7033000  7652700       3225000.0    6133333   \n",
       "\n",
       "   Wide Receiver  \n",
       "0       16250000  \n",
       "1       14175000  \n",
       "2       11424000  \n",
       "3       11415000  \n",
       "4       10800000  \n",
       "5        9993750  "
      ]
     },
     "execution_count": 17,
     "metadata": {},
     "output_type": "execute_result"
    }
   ],
   "source": [
    "nfl.head(6)"
   ]
  },
  {
   "cell_type": "code",
   "execution_count": 28,
   "metadata": {},
   "outputs": [
    {
     "ename": "ValueError",
     "evalue": "x and y must have same first dimension, but have shapes (8, 10) and (800,)",
     "output_type": "error",
     "traceback": [
      "\u001b[0;31m---------------------------------------------------------------------------\u001b[0m",
      "\u001b[0;31mValueError\u001b[0m                                Traceback (most recent call last)",
      "\u001b[0;32m<ipython-input-28-762ad67c0230>\u001b[0m in \u001b[0;36m<module>\u001b[0;34m\u001b[0m\n\u001b[1;32m      1\u001b[0m \u001b[0mnfl\u001b[0m\u001b[0;34m.\u001b[0m\u001b[0mgroupby\u001b[0m\u001b[0;34m(\u001b[0m\u001b[0;34m'year'\u001b[0m\u001b[0;34m)\u001b[0m\u001b[0;34m.\u001b[0m\u001b[0mmean\u001b[0m\u001b[0;34m(\u001b[0m\u001b[0;34m)\u001b[0m\u001b[0;34m\u001b[0m\u001b[0;34m\u001b[0m\u001b[0m\n\u001b[0;32m----> 2\u001b[0;31m \u001b[0mplt\u001b[0m\u001b[0;34m.\u001b[0m\u001b[0mplot\u001b[0m\u001b[0;34m(\u001b[0m\u001b[0mnfl\u001b[0m\u001b[0;34m.\u001b[0m\u001b[0mgroupby\u001b[0m\u001b[0;34m(\u001b[0m\u001b[0;34m'year'\u001b[0m\u001b[0;34m)\u001b[0m\u001b[0;34m.\u001b[0m\u001b[0mmean\u001b[0m\u001b[0;34m(\u001b[0m\u001b[0;34m)\u001b[0m\u001b[0;34m,\u001b[0m\u001b[0mnfl\u001b[0m\u001b[0;34m.\u001b[0m\u001b[0mCornerback\u001b[0m\u001b[0;34m)\u001b[0m\u001b[0;34m\u001b[0m\u001b[0;34m\u001b[0m\u001b[0m\n\u001b[0m\u001b[1;32m      3\u001b[0m \u001b[0mplt\u001b[0m\u001b[0;34m.\u001b[0m\u001b[0mshow\u001b[0m\u001b[0;34m(\u001b[0m\u001b[0;34m)\u001b[0m\u001b[0;34m\u001b[0m\u001b[0;34m\u001b[0m\u001b[0m\n",
      "\u001b[0;32m/anaconda3/lib/python3.7/site-packages/matplotlib/pyplot.py\u001b[0m in \u001b[0;36mplot\u001b[0;34m(scalex, scaley, data, *args, **kwargs)\u001b[0m\n\u001b[1;32m   2809\u001b[0m     return gca().plot(\n\u001b[1;32m   2810\u001b[0m         *args, scalex=scalex, scaley=scaley, **({\"data\": data} if data\n\u001b[0;32m-> 2811\u001b[0;31m         is not None else {}), **kwargs)\n\u001b[0m\u001b[1;32m   2812\u001b[0m \u001b[0;34m\u001b[0m\u001b[0m\n\u001b[1;32m   2813\u001b[0m \u001b[0;34m\u001b[0m\u001b[0m\n",
      "\u001b[0;32m/anaconda3/lib/python3.7/site-packages/matplotlib/__init__.py\u001b[0m in \u001b[0;36minner\u001b[0;34m(ax, data, *args, **kwargs)\u001b[0m\n\u001b[1;32m   1808\u001b[0m                         \u001b[0;34m\"the Matplotlib list!)\"\u001b[0m \u001b[0;34m%\u001b[0m \u001b[0;34m(\u001b[0m\u001b[0mlabel_namer\u001b[0m\u001b[0;34m,\u001b[0m \u001b[0mfunc\u001b[0m\u001b[0;34m.\u001b[0m\u001b[0m__name__\u001b[0m\u001b[0;34m)\u001b[0m\u001b[0;34m,\u001b[0m\u001b[0;34m\u001b[0m\u001b[0;34m\u001b[0m\u001b[0m\n\u001b[1;32m   1809\u001b[0m                         RuntimeWarning, stacklevel=2)\n\u001b[0;32m-> 1810\u001b[0;31m             \u001b[0;32mreturn\u001b[0m \u001b[0mfunc\u001b[0m\u001b[0;34m(\u001b[0m\u001b[0max\u001b[0m\u001b[0;34m,\u001b[0m \u001b[0;34m*\u001b[0m\u001b[0margs\u001b[0m\u001b[0;34m,\u001b[0m \u001b[0;34m**\u001b[0m\u001b[0mkwargs\u001b[0m\u001b[0;34m)\u001b[0m\u001b[0;34m\u001b[0m\u001b[0;34m\u001b[0m\u001b[0m\n\u001b[0m\u001b[1;32m   1811\u001b[0m \u001b[0;34m\u001b[0m\u001b[0m\n\u001b[1;32m   1812\u001b[0m         inner.__doc__ = _add_data_doc(inner.__doc__,\n",
      "\u001b[0;32m/anaconda3/lib/python3.7/site-packages/matplotlib/axes/_axes.py\u001b[0m in \u001b[0;36mplot\u001b[0;34m(self, scalex, scaley, *args, **kwargs)\u001b[0m\n\u001b[1;32m   1609\u001b[0m         \u001b[0mkwargs\u001b[0m \u001b[0;34m=\u001b[0m \u001b[0mcbook\u001b[0m\u001b[0;34m.\u001b[0m\u001b[0mnormalize_kwargs\u001b[0m\u001b[0;34m(\u001b[0m\u001b[0mkwargs\u001b[0m\u001b[0;34m,\u001b[0m \u001b[0mmlines\u001b[0m\u001b[0;34m.\u001b[0m\u001b[0mLine2D\u001b[0m\u001b[0;34m.\u001b[0m\u001b[0m_alias_map\u001b[0m\u001b[0;34m)\u001b[0m\u001b[0;34m\u001b[0m\u001b[0;34m\u001b[0m\u001b[0m\n\u001b[1;32m   1610\u001b[0m \u001b[0;34m\u001b[0m\u001b[0m\n\u001b[0;32m-> 1611\u001b[0;31m         \u001b[0;32mfor\u001b[0m \u001b[0mline\u001b[0m \u001b[0;32min\u001b[0m \u001b[0mself\u001b[0m\u001b[0;34m.\u001b[0m\u001b[0m_get_lines\u001b[0m\u001b[0;34m(\u001b[0m\u001b[0;34m*\u001b[0m\u001b[0margs\u001b[0m\u001b[0;34m,\u001b[0m \u001b[0;34m**\u001b[0m\u001b[0mkwargs\u001b[0m\u001b[0;34m)\u001b[0m\u001b[0;34m:\u001b[0m\u001b[0;34m\u001b[0m\u001b[0;34m\u001b[0m\u001b[0m\n\u001b[0m\u001b[1;32m   1612\u001b[0m             \u001b[0mself\u001b[0m\u001b[0;34m.\u001b[0m\u001b[0madd_line\u001b[0m\u001b[0;34m(\u001b[0m\u001b[0mline\u001b[0m\u001b[0;34m)\u001b[0m\u001b[0;34m\u001b[0m\u001b[0;34m\u001b[0m\u001b[0m\n\u001b[1;32m   1613\u001b[0m             \u001b[0mlines\u001b[0m\u001b[0;34m.\u001b[0m\u001b[0mappend\u001b[0m\u001b[0;34m(\u001b[0m\u001b[0mline\u001b[0m\u001b[0;34m)\u001b[0m\u001b[0;34m\u001b[0m\u001b[0;34m\u001b[0m\u001b[0m\n",
      "\u001b[0;32m/anaconda3/lib/python3.7/site-packages/matplotlib/axes/_base.py\u001b[0m in \u001b[0;36m_grab_next_args\u001b[0;34m(self, *args, **kwargs)\u001b[0m\n\u001b[1;32m    391\u001b[0m                 \u001b[0mthis\u001b[0m \u001b[0;34m+=\u001b[0m \u001b[0margs\u001b[0m\u001b[0;34m[\u001b[0m\u001b[0;36m0\u001b[0m\u001b[0;34m]\u001b[0m\u001b[0;34m,\u001b[0m\u001b[0;34m\u001b[0m\u001b[0;34m\u001b[0m\u001b[0m\n\u001b[1;32m    392\u001b[0m                 \u001b[0margs\u001b[0m \u001b[0;34m=\u001b[0m \u001b[0margs\u001b[0m\u001b[0;34m[\u001b[0m\u001b[0;36m1\u001b[0m\u001b[0;34m:\u001b[0m\u001b[0;34m]\u001b[0m\u001b[0;34m\u001b[0m\u001b[0;34m\u001b[0m\u001b[0m\n\u001b[0;32m--> 393\u001b[0;31m             \u001b[0;32myield\u001b[0m \u001b[0;32mfrom\u001b[0m \u001b[0mself\u001b[0m\u001b[0;34m.\u001b[0m\u001b[0m_plot_args\u001b[0m\u001b[0;34m(\u001b[0m\u001b[0mthis\u001b[0m\u001b[0;34m,\u001b[0m \u001b[0mkwargs\u001b[0m\u001b[0;34m)\u001b[0m\u001b[0;34m\u001b[0m\u001b[0;34m\u001b[0m\u001b[0m\n\u001b[0m\u001b[1;32m    394\u001b[0m \u001b[0;34m\u001b[0m\u001b[0m\n\u001b[1;32m    395\u001b[0m \u001b[0;34m\u001b[0m\u001b[0m\n",
      "\u001b[0;32m/anaconda3/lib/python3.7/site-packages/matplotlib/axes/_base.py\u001b[0m in \u001b[0;36m_plot_args\u001b[0;34m(self, tup, kwargs)\u001b[0m\n\u001b[1;32m    368\u001b[0m             \u001b[0mx\u001b[0m\u001b[0;34m,\u001b[0m \u001b[0my\u001b[0m \u001b[0;34m=\u001b[0m \u001b[0mindex_of\u001b[0m\u001b[0;34m(\u001b[0m\u001b[0mtup\u001b[0m\u001b[0;34m[\u001b[0m\u001b[0;34m-\u001b[0m\u001b[0;36m1\u001b[0m\u001b[0;34m]\u001b[0m\u001b[0;34m)\u001b[0m\u001b[0;34m\u001b[0m\u001b[0;34m\u001b[0m\u001b[0m\n\u001b[1;32m    369\u001b[0m \u001b[0;34m\u001b[0m\u001b[0m\n\u001b[0;32m--> 370\u001b[0;31m         \u001b[0mx\u001b[0m\u001b[0;34m,\u001b[0m \u001b[0my\u001b[0m \u001b[0;34m=\u001b[0m \u001b[0mself\u001b[0m\u001b[0;34m.\u001b[0m\u001b[0m_xy_from_xy\u001b[0m\u001b[0;34m(\u001b[0m\u001b[0mx\u001b[0m\u001b[0;34m,\u001b[0m \u001b[0my\u001b[0m\u001b[0;34m)\u001b[0m\u001b[0;34m\u001b[0m\u001b[0;34m\u001b[0m\u001b[0m\n\u001b[0m\u001b[1;32m    371\u001b[0m \u001b[0;34m\u001b[0m\u001b[0m\n\u001b[1;32m    372\u001b[0m         \u001b[0;32mif\u001b[0m \u001b[0mself\u001b[0m\u001b[0;34m.\u001b[0m\u001b[0mcommand\u001b[0m \u001b[0;34m==\u001b[0m \u001b[0;34m'plot'\u001b[0m\u001b[0;34m:\u001b[0m\u001b[0;34m\u001b[0m\u001b[0;34m\u001b[0m\u001b[0m\n",
      "\u001b[0;32m/anaconda3/lib/python3.7/site-packages/matplotlib/axes/_base.py\u001b[0m in \u001b[0;36m_xy_from_xy\u001b[0;34m(self, x, y)\u001b[0m\n\u001b[1;32m    229\u001b[0m         \u001b[0;32mif\u001b[0m \u001b[0mx\u001b[0m\u001b[0;34m.\u001b[0m\u001b[0mshape\u001b[0m\u001b[0;34m[\u001b[0m\u001b[0;36m0\u001b[0m\u001b[0;34m]\u001b[0m \u001b[0;34m!=\u001b[0m \u001b[0my\u001b[0m\u001b[0;34m.\u001b[0m\u001b[0mshape\u001b[0m\u001b[0;34m[\u001b[0m\u001b[0;36m0\u001b[0m\u001b[0;34m]\u001b[0m\u001b[0;34m:\u001b[0m\u001b[0;34m\u001b[0m\u001b[0;34m\u001b[0m\u001b[0m\n\u001b[1;32m    230\u001b[0m             raise ValueError(\"x and y must have same first dimension, but \"\n\u001b[0;32m--> 231\u001b[0;31m                              \"have shapes {} and {}\".format(x.shape, y.shape))\n\u001b[0m\u001b[1;32m    232\u001b[0m         \u001b[0;32mif\u001b[0m \u001b[0mx\u001b[0m\u001b[0;34m.\u001b[0m\u001b[0mndim\u001b[0m \u001b[0;34m>\u001b[0m \u001b[0;36m2\u001b[0m \u001b[0;32mor\u001b[0m \u001b[0my\u001b[0m\u001b[0;34m.\u001b[0m\u001b[0mndim\u001b[0m \u001b[0;34m>\u001b[0m \u001b[0;36m2\u001b[0m\u001b[0;34m:\u001b[0m\u001b[0;34m\u001b[0m\u001b[0;34m\u001b[0m\u001b[0m\n\u001b[1;32m    233\u001b[0m             raise ValueError(\"x and y can be no greater than 2-D, but have \"\n",
      "\u001b[0;31mValueError\u001b[0m: x and y must have same first dimension, but have shapes (8, 10) and (800,)"
     ]
    },
    {
     "data": {
      "image/png": "[encoded data removed]",
      "text/plain": [
       "<Figure size 432x288 with 1 Axes>"
      ]
     },
     "metadata": {
      "needs_background": "light"
     },
     "output_type": "display_data"
    }
   ],
   "source": [
    "nfl.groupby('year').mean()\n",
    "plt.plot(nfl.groupby('year').mean(),nfl.Cornerback)\n",
    "plt.show()"
   ]
  },
  {
   "cell_type": "code",
   "execution_count": 10,
   "metadata": {},
   "outputs": [],
   "source": [
    "import matplotlib.pyplot as plt"
   ]
  },
  {
   "cell_type": "code",
   "execution_count": 25,
   "metadata": {},
   "outputs": [
    {
     "data": {
      "image/png": "[encoded data removed]",
      "text/plain": [
       "<Figure size 432x288 with 1 Axes>"
      ]
     },
     "metadata": {
      "needs_background": "light"
     },
     "output_type": "display_data"
    }
   ],
   "source": [
    "plt.plot(nfl.year,nfl.Cornerback)\n",
    "plt.show()"
   ]
  },
  {
   "cell_type": "code",
   "execution_count": 22,
   "metadata": {},
   "outputs": [
    {
     "data": {
      "text/plain": [
       "[<matplotlib.lines.Line2D at 0x114aa87f0>]"
      ]
     },
     "execution_count": 22,
     "metadata": {},
     "output_type": "execute_result"
    },
    {
     "data": {
      "image/png": "[encoded data removed]",
      "text/plain": [
       "<Figure size 432x288 with 2 Axes>"
      ]
     },
     "metadata": {
      "needs_background": "light"
     },
     "output_type": "display_data"
    }
   ],
   "source": [
    "plt.figure(1)                # the first figure\n",
    "plt.subplot(211)             # the first subplot in the first figure\n",
    "plt.plot([1, 2, 3])\n",
    "plt.subplot(212)             # the second subplot in the first figure\n",
    "plt.plot([4, 5, 6])"
   ]
  },
  {
   "cell_type": "code",
   "execution_count": null,
   "metadata": {},
   "outputs": [],
   "source": []
  }
 ],
 "metadata": {
  "kernelspec": {
   "display_name": "Python 3",
   "language": "python",
   "name": "python3"
  },
  "language_info": {
   "codemirror_mode": {
    "name": "ipython",
    "version": 3
   },
   "file_extension": ".py",
   "mimetype": "text/x-python",
   "name": "python",
   "nbconvert_exporter": "python",
   "pygments_lexer": "ipython3",
   "version": "3.7.3"
  }
 },
 "nbformat": 4,
 "nbformat_minor": 2
}
